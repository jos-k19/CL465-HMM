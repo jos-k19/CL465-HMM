{
  "nbformat": 4,
  "nbformat_minor": 0,
  "metadata": {
    "colab": {
      "name": "CL 465 HMM.ipynb",
      "provenance": [],
      "collapsed_sections": [],
      "authorship_tag": "ABX9TyOa00h0V1mSsJ3RrbUaGXi+",
      "include_colab_link": true
    },
    "kernelspec": {
      "name": "python3",
      "display_name": "Python 3"
    },
    "language_info": {
      "name": "python"
    }
  },
  "cells": [
    {
      "cell_type": "markdown",
      "metadata": {
        "id": "view-in-github",
        "colab_type": "text"
      },
      "source": [
        "<a href=\"https://colab.research.google.com/github/jos-k19/CL465-HMM/blob/main/CL_465_HMM.ipynb\" target=\"_parent\"><img src=\"https://colab.research.google.com/assets/colab-badge.svg\" alt=\"Open In Colab\"/></a>"
      ]
    },
    {
      "cell_type": "code",
      "execution_count": null,
      "metadata": {
        "colab": {
          "base_uri": "https://localhost:8080/"
        },
        "id": "kEbAjeDn_QO2",
        "outputId": "f3fddfa3-43bc-47e0-c76e-c06f289cc3e8"
      },
      "outputs": [
        {
          "output_type": "stream",
          "name": "stdout",
          "text": [
            "[nltk_data] Downloading package treebank to /root/nltk_data...\n",
            "[nltk_data]   Unzipping corpora/treebank.zip.\n",
            "[nltk_data] Downloading package universal_tagset to /root/nltk_data...\n",
            "[nltk_data]   Unzipping taggers/universal_tagset.zip.\n",
            "[[('Pierre', 'NOUN'), ('Vinken', 'NOUN'), (',', '.'), ('61', 'NUM'), ('years', 'NOUN'), ('old', 'ADJ'), (',', '.'), ('will', 'VERB'), ('join', 'VERB'), ('the', 'DET'), ('board', 'NOUN'), ('as', 'ADP'), ('a', 'DET'), ('nonexecutive', 'ADJ'), ('director', 'NOUN'), ('Nov.', 'NOUN'), ('29', 'NUM'), ('.', '.')], [('Mr.', 'NOUN'), ('Vinken', 'NOUN'), ('is', 'VERB'), ('chairman', 'NOUN'), ('of', 'ADP'), ('Elsevier', 'NOUN'), ('N.V.', 'NOUN'), (',', '.'), ('the', 'DET'), ('Dutch', 'NOUN'), ('publishing', 'VERB'), ('group', 'NOUN'), ('.', '.')]]\n"
          ]
        }
      ],
      "source": [
        "# Importing libraries\n",
        "import nltk\n",
        "import numpy as np\n",
        "import pandas as pd\n",
        "import random\n",
        "from sklearn.model_selection import train_test_split\n",
        "import pprint, time\n",
        "import seaborn as sns\n",
        "import matplotlib.pyplot as plt\n",
        " \n",
        "#download the treebank corpus from nltk\n",
        "nltk.download('treebank')\n",
        " \n",
        "#download the universal tagset from nltk\n",
        "nltk.download('universal_tagset')\n",
        " \n",
        "# reading the Treebank tagged sentences\n",
        "nltk_data = list(nltk.corpus.treebank.tagged_sents(tagset='universal'))\n",
        " \n",
        "#print the first two sentences along with tags\n",
        "print(nltk_data[:2])"
      ]
    },
    {
      "cell_type": "code",
      "source": [
        "#print each word with its respective tag for first two sentences\n",
        "for sent in nltk_data[:2]:\n",
        "  for tuple in sent:\n",
        "    print(tuple)"
      ],
      "metadata": {
        "colab": {
          "base_uri": "https://localhost:8080/"
        },
        "id": "BPU3NyVQ_dN1",
        "outputId": "2d3ea214-2f91-4575-f032-0296bb2b97f2"
      },
      "execution_count": null,
      "outputs": [
        {
          "output_type": "stream",
          "name": "stdout",
          "text": [
            "('Pierre', 'NOUN')\n",
            "('Vinken', 'NOUN')\n",
            "(',', '.')\n",
            "('61', 'NUM')\n",
            "('years', 'NOUN')\n",
            "('old', 'ADJ')\n",
            "(',', '.')\n",
            "('will', 'VERB')\n",
            "('join', 'VERB')\n",
            "('the', 'DET')\n",
            "('board', 'NOUN')\n",
            "('as', 'ADP')\n",
            "('a', 'DET')\n",
            "('nonexecutive', 'ADJ')\n",
            "('director', 'NOUN')\n",
            "('Nov.', 'NOUN')\n",
            "('29', 'NUM')\n",
            "('.', '.')\n",
            "('Mr.', 'NOUN')\n",
            "('Vinken', 'NOUN')\n",
            "('is', 'VERB')\n",
            "('chairman', 'NOUN')\n",
            "('of', 'ADP')\n",
            "('Elsevier', 'NOUN')\n",
            "('N.V.', 'NOUN')\n",
            "(',', '.')\n",
            "('the', 'DET')\n",
            "('Dutch', 'NOUN')\n",
            "('publishing', 'VERB')\n",
            "('group', 'NOUN')\n",
            "('.', '.')\n"
          ]
        }
      ]
    },
    {
      "cell_type": "code",
      "source": [
        "# split data into training and validation set in the ratio 80:20\n",
        "train_set,test_set =train_test_split(nltk_data,train_size=0.80,test_size=0.20,random_state = 101)"
      ],
      "metadata": {
        "id": "BKE_WgP__gks"
      },
      "execution_count": null,
      "outputs": []
    },
    {
      "cell_type": "code",
      "source": [
        "# create list of train and test tagged words\n",
        "train_tagged_words = [ tup for sent in train_set for tup in sent ]\n",
        "test_tagged_words = [ tup for sent in test_set for tup in sent ]\n",
        "print(len(train_tagged_words))\n",
        "print(len(test_tagged_words))"
      ],
      "metadata": {
        "colab": {
          "base_uri": "https://localhost:8080/"
        },
        "id": "ZbvXjo2H_l13",
        "outputId": "fd68ce4e-cbad-4d4f-ab25-ab7f9efe02ff"
      },
      "execution_count": null,
      "outputs": [
        {
          "output_type": "stream",
          "name": "stdout",
          "text": [
            "80310\n",
            "20366\n"
          ]
        }
      ]
    },
    {
      "cell_type": "code",
      "source": [
        "# check some of the tagged words.\n",
        "train_tagged_words[:5]"
      ],
      "metadata": {
        "colab": {
          "base_uri": "https://localhost:8080/"
        },
        "id": "nUzQLd00_5ep",
        "outputId": "74256a58-9192-4c9d-dfb6-f581321642c1"
      },
      "execution_count": null,
      "outputs": [
        {
          "output_type": "execute_result",
          "data": {
            "text/plain": [
              "[('Drink', 'NOUN'),\n",
              " ('Carrier', 'NOUN'),\n",
              " ('Competes', 'VERB'),\n",
              " ('With', 'ADP'),\n",
              " ('Cartons', 'NOUN')]"
            ]
          },
          "metadata": {},
          "execution_count": 5
        }
      ]
    },
    {
      "cell_type": "code",
      "source": [
        "#use set datatype to check how many unique tags are present in training data\n",
        "tags = {tag for word,tag in train_tagged_words}\n",
        "print(len(tags))\n",
        "print(tags)\n",
        " \n",
        "# check total words in vocabulary\n",
        "vocab = {word for word,tag in train_tagged_words}\n",
        "print(len(vocab))"
      ],
      "metadata": {
        "colab": {
          "base_uri": "https://localhost:8080/"
        },
        "id": "aNTX9j70AVti",
        "outputId": "05bc31c7-19fd-4fe8-f055-f0421be19d36"
      },
      "execution_count": null,
      "outputs": [
        {
          "output_type": "stream",
          "name": "stdout",
          "text": [
            "12\n",
            "{'.', 'ADV', 'NOUN', 'DET', 'ADJ', 'PRT', 'X', 'ADP', 'NUM', 'CONJ', 'VERB', 'PRON'}\n",
            "11052\n"
          ]
        }
      ]
    },
    {
      "cell_type": "code",
      "source": [
        "# compute Emission Probability\n",
        "def word_given_tag(word, tag, train_bag = train_tagged_words):\n",
        "    tag_list = [pair for pair in train_bag if pair[1]==tag]\n",
        "    count_tag = len(tag_list)#total number of times the passed tag occurred in train_bag\n",
        "    w_given_tag_list = [pair[0] for pair in tag_list if pair[0]==word]\n",
        "#now calculate the total number of times the passed word occurred as the passed tag.\n",
        "    count_w_given_tag = len(w_given_tag_list)\n",
        " \n",
        "     \n",
        "    return (count_w_given_tag, count_tag)"
      ],
      "metadata": {
        "id": "KW0erJpzAn-l"
      },
      "execution_count": null,
      "outputs": []
    },
    {
      "cell_type": "code",
      "source": [
        "# compute  Transition Probability\n",
        "def t2_given_t1(t2, t1, train_bag = train_tagged_words):\n",
        "    tags = [pair[1] for pair in train_bag]\n",
        "    count_t1 = len([t for t in tags if t==t1])\n",
        "    count_t2_t1 = 0\n",
        "    for index in range(len(tags)-1):\n",
        "        if tags[index]==t1 and tags[index+1] == t2:\n",
        "            count_t2_t1 += 1\n",
        "    return (count_t2_t1, count_t1)"
      ],
      "metadata": {
        "id": "HNOL3OD-BCoE"
      },
      "execution_count": null,
      "outputs": []
    },
    {
      "cell_type": "code",
      "source": [
        "# creating t x t transition matrix of tags, t= no of tags\n",
        "# Matrix(i, j) represents P(jth tag after the ith tag)\n",
        " \n",
        "tags_matrix = np.zeros((len(tags), len(tags)), dtype='float32')\n",
        "for i, t1 in enumerate(list(tags)):\n",
        "    for j, t2 in enumerate(list(tags)): \n",
        "      tags_matrix[i, j] = t2_given_t1(t2, t1)[0]/t2_given_t1(t2, t1)[1]"
      ],
      "metadata": {
        "id": "V7-x6pN3BFmF"
      },
      "execution_count": null,
      "outputs": []
    },
    {
      "cell_type": "code",
      "source": [
        "# convert the matrix to a df for better readability\n",
        "#the table is same as the transition table shown in section 3 of article\n",
        "tags_df = pd.DataFrame(tags_matrix, columns = list(tags), index=list(tags))\n",
        "display(tags_df)"
      ],
      "metadata": {
        "id": "PIf5L5VIBLKX",
        "colab": {
          "base_uri": "https://localhost:8080/",
          "height": 425
        },
        "outputId": "1ef21b43-5507-4a02-d711-e32d045fae5e"
      },
      "execution_count": null,
      "outputs": [
        {
          "output_type": "display_data",
          "data": {
            "text/plain": [
              "             .       ADV      NOUN       DET       ADJ       PRT         X  \\\n",
              ".     0.092372  0.052569  0.218539  0.172192  0.046132  0.002789  0.025641   \n",
              "ADV   0.139255  0.081458  0.032196  0.071373  0.130721  0.014740  0.022886   \n",
              "NOUN  0.240094  0.016895  0.262344  0.013106  0.012584  0.043935  0.028825   \n",
              "DET   0.017393  0.012074  0.635906  0.006037  0.206411  0.000287  0.045134   \n",
              "ADJ   0.066019  0.005243  0.696893  0.005243  0.063301  0.011456  0.020971   \n",
              "PRT   0.045010  0.009393  0.250489  0.101370  0.082975  0.001174  0.012133   \n",
              "X     0.160869  0.025754  0.061695  0.056890  0.017682  0.185086  0.075726   \n",
              "ADP   0.038724  0.014553  0.323589  0.320931  0.107062  0.001266  0.034548   \n",
              "NUM   0.119243  0.003570  0.351660  0.003570  0.035345  0.026062  0.202428   \n",
              "CONJ  0.035126  0.057080  0.349067  0.123491  0.113611  0.004391  0.009330   \n",
              "VERB  0.034807  0.083886  0.110589  0.133610  0.066390  0.030663  0.215930   \n",
              "PRON  0.041913  0.036902  0.212756  0.009567  0.070615  0.014123  0.088383   \n",
              "\n",
              "           ADP       NUM      CONJ      VERB      PRON  \n",
              ".     0.092908  0.078210  0.060079  0.089690  0.068769  \n",
              "ADV   0.119472  0.029868  0.006982  0.339022  0.012025  \n",
              "NOUN  0.176827  0.009144  0.042454  0.149134  0.004659  \n",
              "DET   0.009918  0.022855  0.000431  0.040247  0.003306  \n",
              "ADJ   0.080583  0.021748  0.016893  0.011456  0.000194  \n",
              "PRT   0.019569  0.056751  0.002348  0.401174  0.017613  \n",
              "X     0.142226  0.003075  0.010379  0.206419  0.054200  \n",
              "ADP   0.016958  0.063275  0.001012  0.008479  0.069603  \n",
              "NUM   0.037487  0.184220  0.014281  0.020707  0.001428  \n",
              "CONJ  0.055982  0.040615  0.000549  0.150384  0.060373  \n",
              "VERB  0.092357  0.022836  0.005433  0.167956  0.035543  \n",
              "PRON  0.022323  0.006834  0.005011  0.484738  0.006834  "
            ],
            "text/html": [
              "\n",
              "  <div id=\"df-e0e684f2-5d87-4ed9-a683-21b5beeb6ead\">\n",
              "    <div class=\"colab-df-container\">\n",
              "      <div>\n",
              "<style scoped>\n",
              "    .dataframe tbody tr th:only-of-type {\n",
              "        vertical-align: middle;\n",
              "    }\n",
              "\n",
              "    .dataframe tbody tr th {\n",
              "        vertical-align: top;\n",
              "    }\n",
              "\n",
              "    .dataframe thead th {\n",
              "        text-align: right;\n",
              "    }\n",
              "</style>\n",
              "<table border=\"1\" class=\"dataframe\">\n",
              "  <thead>\n",
              "    <tr style=\"text-align: right;\">\n",
              "      <th></th>\n",
              "      <th>.</th>\n",
              "      <th>ADV</th>\n",
              "      <th>NOUN</th>\n",
              "      <th>DET</th>\n",
              "      <th>ADJ</th>\n",
              "      <th>PRT</th>\n",
              "      <th>X</th>\n",
              "      <th>ADP</th>\n",
              "      <th>NUM</th>\n",
              "      <th>CONJ</th>\n",
              "      <th>VERB</th>\n",
              "      <th>PRON</th>\n",
              "    </tr>\n",
              "  </thead>\n",
              "  <tbody>\n",
              "    <tr>\n",
              "      <th>.</th>\n",
              "      <td>0.092372</td>\n",
              "      <td>0.052569</td>\n",
              "      <td>0.218539</td>\n",
              "      <td>0.172192</td>\n",
              "      <td>0.046132</td>\n",
              "      <td>0.002789</td>\n",
              "      <td>0.025641</td>\n",
              "      <td>0.092908</td>\n",
              "      <td>0.078210</td>\n",
              "      <td>0.060079</td>\n",
              "      <td>0.089690</td>\n",
              "      <td>0.068769</td>\n",
              "    </tr>\n",
              "    <tr>\n",
              "      <th>ADV</th>\n",
              "      <td>0.139255</td>\n",
              "      <td>0.081458</td>\n",
              "      <td>0.032196</td>\n",
              "      <td>0.071373</td>\n",
              "      <td>0.130721</td>\n",
              "      <td>0.014740</td>\n",
              "      <td>0.022886</td>\n",
              "      <td>0.119472</td>\n",
              "      <td>0.029868</td>\n",
              "      <td>0.006982</td>\n",
              "      <td>0.339022</td>\n",
              "      <td>0.012025</td>\n",
              "    </tr>\n",
              "    <tr>\n",
              "      <th>NOUN</th>\n",
              "      <td>0.240094</td>\n",
              "      <td>0.016895</td>\n",
              "      <td>0.262344</td>\n",
              "      <td>0.013106</td>\n",
              "      <td>0.012584</td>\n",
              "      <td>0.043935</td>\n",
              "      <td>0.028825</td>\n",
              "      <td>0.176827</td>\n",
              "      <td>0.009144</td>\n",
              "      <td>0.042454</td>\n",
              "      <td>0.149134</td>\n",
              "      <td>0.004659</td>\n",
              "    </tr>\n",
              "    <tr>\n",
              "      <th>DET</th>\n",
              "      <td>0.017393</td>\n",
              "      <td>0.012074</td>\n",
              "      <td>0.635906</td>\n",
              "      <td>0.006037</td>\n",
              "      <td>0.206411</td>\n",
              "      <td>0.000287</td>\n",
              "      <td>0.045134</td>\n",
              "      <td>0.009918</td>\n",
              "      <td>0.022855</td>\n",
              "      <td>0.000431</td>\n",
              "      <td>0.040247</td>\n",
              "      <td>0.003306</td>\n",
              "    </tr>\n",
              "    <tr>\n",
              "      <th>ADJ</th>\n",
              "      <td>0.066019</td>\n",
              "      <td>0.005243</td>\n",
              "      <td>0.696893</td>\n",
              "      <td>0.005243</td>\n",
              "      <td>0.063301</td>\n",
              "      <td>0.011456</td>\n",
              "      <td>0.020971</td>\n",
              "      <td>0.080583</td>\n",
              "      <td>0.021748</td>\n",
              "      <td>0.016893</td>\n",
              "      <td>0.011456</td>\n",
              "      <td>0.000194</td>\n",
              "    </tr>\n",
              "    <tr>\n",
              "      <th>PRT</th>\n",
              "      <td>0.045010</td>\n",
              "      <td>0.009393</td>\n",
              "      <td>0.250489</td>\n",
              "      <td>0.101370</td>\n",
              "      <td>0.082975</td>\n",
              "      <td>0.001174</td>\n",
              "      <td>0.012133</td>\n",
              "      <td>0.019569</td>\n",
              "      <td>0.056751</td>\n",
              "      <td>0.002348</td>\n",
              "      <td>0.401174</td>\n",
              "      <td>0.017613</td>\n",
              "    </tr>\n",
              "    <tr>\n",
              "      <th>X</th>\n",
              "      <td>0.160869</td>\n",
              "      <td>0.025754</td>\n",
              "      <td>0.061695</td>\n",
              "      <td>0.056890</td>\n",
              "      <td>0.017682</td>\n",
              "      <td>0.185086</td>\n",
              "      <td>0.075726</td>\n",
              "      <td>0.142226</td>\n",
              "      <td>0.003075</td>\n",
              "      <td>0.010379</td>\n",
              "      <td>0.206419</td>\n",
              "      <td>0.054200</td>\n",
              "    </tr>\n",
              "    <tr>\n",
              "      <th>ADP</th>\n",
              "      <td>0.038724</td>\n",
              "      <td>0.014553</td>\n",
              "      <td>0.323589</td>\n",
              "      <td>0.320931</td>\n",
              "      <td>0.107062</td>\n",
              "      <td>0.001266</td>\n",
              "      <td>0.034548</td>\n",
              "      <td>0.016958</td>\n",
              "      <td>0.063275</td>\n",
              "      <td>0.001012</td>\n",
              "      <td>0.008479</td>\n",
              "      <td>0.069603</td>\n",
              "    </tr>\n",
              "    <tr>\n",
              "      <th>NUM</th>\n",
              "      <td>0.119243</td>\n",
              "      <td>0.003570</td>\n",
              "      <td>0.351660</td>\n",
              "      <td>0.003570</td>\n",
              "      <td>0.035345</td>\n",
              "      <td>0.026062</td>\n",
              "      <td>0.202428</td>\n",
              "      <td>0.037487</td>\n",
              "      <td>0.184220</td>\n",
              "      <td>0.014281</td>\n",
              "      <td>0.020707</td>\n",
              "      <td>0.001428</td>\n",
              "    </tr>\n",
              "    <tr>\n",
              "      <th>CONJ</th>\n",
              "      <td>0.035126</td>\n",
              "      <td>0.057080</td>\n",
              "      <td>0.349067</td>\n",
              "      <td>0.123491</td>\n",
              "      <td>0.113611</td>\n",
              "      <td>0.004391</td>\n",
              "      <td>0.009330</td>\n",
              "      <td>0.055982</td>\n",
              "      <td>0.040615</td>\n",
              "      <td>0.000549</td>\n",
              "      <td>0.150384</td>\n",
              "      <td>0.060373</td>\n",
              "    </tr>\n",
              "    <tr>\n",
              "      <th>VERB</th>\n",
              "      <td>0.034807</td>\n",
              "      <td>0.083886</td>\n",
              "      <td>0.110589</td>\n",
              "      <td>0.133610</td>\n",
              "      <td>0.066390</td>\n",
              "      <td>0.030663</td>\n",
              "      <td>0.215930</td>\n",
              "      <td>0.092357</td>\n",
              "      <td>0.022836</td>\n",
              "      <td>0.005433</td>\n",
              "      <td>0.167956</td>\n",
              "      <td>0.035543</td>\n",
              "    </tr>\n",
              "    <tr>\n",
              "      <th>PRON</th>\n",
              "      <td>0.041913</td>\n",
              "      <td>0.036902</td>\n",
              "      <td>0.212756</td>\n",
              "      <td>0.009567</td>\n",
              "      <td>0.070615</td>\n",
              "      <td>0.014123</td>\n",
              "      <td>0.088383</td>\n",
              "      <td>0.022323</td>\n",
              "      <td>0.006834</td>\n",
              "      <td>0.005011</td>\n",
              "      <td>0.484738</td>\n",
              "      <td>0.006834</td>\n",
              "    </tr>\n",
              "  </tbody>\n",
              "</table>\n",
              "</div>\n",
              "      <button class=\"colab-df-convert\" onclick=\"convertToInteractive('df-e0e684f2-5d87-4ed9-a683-21b5beeb6ead')\"\n",
              "              title=\"Convert this dataframe to an interactive table.\"\n",
              "              style=\"display:none;\">\n",
              "        \n",
              "  <svg xmlns=\"http://www.w3.org/2000/svg\" height=\"24px\"viewBox=\"0 0 24 24\"\n",
              "       width=\"24px\">\n",
              "    <path d=\"M0 0h24v24H0V0z\" fill=\"none\"/>\n",
              "    <path d=\"M18.56 5.44l.94 2.06.94-2.06 2.06-.94-2.06-.94-.94-2.06-.94 2.06-2.06.94zm-11 1L8.5 8.5l.94-2.06 2.06-.94-2.06-.94L8.5 2.5l-.94 2.06-2.06.94zm10 10l.94 2.06.94-2.06 2.06-.94-2.06-.94-.94-2.06-.94 2.06-2.06.94z\"/><path d=\"M17.41 7.96l-1.37-1.37c-.4-.4-.92-.59-1.43-.59-.52 0-1.04.2-1.43.59L10.3 9.45l-7.72 7.72c-.78.78-.78 2.05 0 2.83L4 21.41c.39.39.9.59 1.41.59.51 0 1.02-.2 1.41-.59l7.78-7.78 2.81-2.81c.8-.78.8-2.07 0-2.86zM5.41 20L4 18.59l7.72-7.72 1.47 1.35L5.41 20z\"/>\n",
              "  </svg>\n",
              "      </button>\n",
              "      \n",
              "  <style>\n",
              "    .colab-df-container {\n",
              "      display:flex;\n",
              "      flex-wrap:wrap;\n",
              "      gap: 12px;\n",
              "    }\n",
              "\n",
              "    .colab-df-convert {\n",
              "      background-color: #E8F0FE;\n",
              "      border: none;\n",
              "      border-radius: 50%;\n",
              "      cursor: pointer;\n",
              "      display: none;\n",
              "      fill: #1967D2;\n",
              "      height: 32px;\n",
              "      padding: 0 0 0 0;\n",
              "      width: 32px;\n",
              "    }\n",
              "\n",
              "    .colab-df-convert:hover {\n",
              "      background-color: #E2EBFA;\n",
              "      box-shadow: 0px 1px 2px rgba(60, 64, 67, 0.3), 0px 1px 3px 1px rgba(60, 64, 67, 0.15);\n",
              "      fill: #174EA6;\n",
              "    }\n",
              "\n",
              "    [theme=dark] .colab-df-convert {\n",
              "      background-color: #3B4455;\n",
              "      fill: #D2E3FC;\n",
              "    }\n",
              "\n",
              "    [theme=dark] .colab-df-convert:hover {\n",
              "      background-color: #434B5C;\n",
              "      box-shadow: 0px 1px 3px 1px rgba(0, 0, 0, 0.15);\n",
              "      filter: drop-shadow(0px 1px 2px rgba(0, 0, 0, 0.3));\n",
              "      fill: #FFFFFF;\n",
              "    }\n",
              "  </style>\n",
              "\n",
              "      <script>\n",
              "        const buttonEl =\n",
              "          document.querySelector('#df-e0e684f2-5d87-4ed9-a683-21b5beeb6ead button.colab-df-convert');\n",
              "        buttonEl.style.display =\n",
              "          google.colab.kernel.accessAllowed ? 'block' : 'none';\n",
              "\n",
              "        async function convertToInteractive(key) {\n",
              "          const element = document.querySelector('#df-e0e684f2-5d87-4ed9-a683-21b5beeb6ead');\n",
              "          const dataTable =\n",
              "            await google.colab.kernel.invokeFunction('convertToInteractive',\n",
              "                                                     [key], {});\n",
              "          if (!dataTable) return;\n",
              "\n",
              "          const docLinkHtml = 'Like what you see? Visit the ' +\n",
              "            '<a target=\"_blank\" href=https://colab.research.google.com/notebooks/data_table.ipynb>data table notebook</a>'\n",
              "            + ' to learn more about interactive tables.';\n",
              "          element.innerHTML = '';\n",
              "          dataTable['output_type'] = 'display_data';\n",
              "          await google.colab.output.renderOutput(dataTable, element);\n",
              "          const docLink = document.createElement('div');\n",
              "          docLink.innerHTML = docLinkHtml;\n",
              "          element.appendChild(docLink);\n",
              "        }\n",
              "      </script>\n",
              "    </div>\n",
              "  </div>\n",
              "  "
            ]
          },
          "metadata": {}
        }
      ]
    },
    {
      "cell_type": "code",
      "source": [
        "\n",
        "def Viterbi(words, train_bag = train_tagged_words):\n",
        "    state = []\n",
        "    T = list(set([pair[1] for pair in train_bag]))\n",
        "     \n",
        "    for key, word in enumerate(words):\n",
        "        #initialise list of probability column for a given observation\n",
        "        p = [] \n",
        "        for tag in T:\n",
        "            if key == 0:\n",
        "                transition_p = tags_df.loc['.', tag]\n",
        "            else:\n",
        "                transition_p = tags_df.loc[state[-1], tag]\n",
        "                \n",
        "            # compute emission and state probabilities\n",
        "            emission_p = word_given_tag(words[key], tag)[0]/word_given_tag(words[key], tag)[1]\n",
        "            state_probability = emission_p * transition_p    \n",
        "            p.append(state_probability)\n",
        "             \n",
        "        pmax = max(p)\n",
        "        # getting state for which probability is maximum\n",
        "        state_max = T[p.index(pmax)] \n",
        "        state.append(state_max)\n",
        "    return list(zip(words, state))"
      ],
      "metadata": {
        "id": "pqUKS5wZBRZz"
      },
      "execution_count": null,
      "outputs": []
    },
    {
      "cell_type": "code",
      "source": [
        "# Let's test our Viterbi algorithm on a few sample sentences of test dataset\n",
        "random.seed(1234)      #define a random seed to get same sentences when run multiple times\n",
        " \n",
        "# choose random 10 numbers\n",
        "rndom = [random.randint(1,len(test_set)) for x in range(10)]\n",
        " \n",
        "# list of 10 sents on which we test the model\n",
        "test_run = [test_set[i] for i in rndom]\n",
        " \n",
        "# list of tagged words\n",
        "test_run_base = [tup for sent in test_run for tup in sent]\n",
        " \n",
        "# list of untagged words\n",
        "test_tagged_words = [tup[0] for sent in test_run for tup in sent]"
      ],
      "metadata": {
        "id": "E7Izrz1gBUbx"
      },
      "execution_count": null,
      "outputs": []
    },
    {
      "cell_type": "code",
      "source": [
        "\n",
        "#Here We will only test 10 sentences to check the accuracy\n",
        "#as testing the whole training set takes huge amount of time\n",
        "start = time.time()\n",
        "\n",
        "tagged_seq = Viterbi(test_tagged_words)\n",
        "end = time.time()\n",
        "difference = end-start\n",
        " \n",
        "print(\"Time taken in seconds: \", difference)\n",
        " \n",
        "# accuracy\n",
        "check = [i for i, j in zip(tagged_seq, test_run_base) if i == j] \n",
        "print(len(check))\n",
        " \n",
        "accuracy = len(check)/len(tagged_seq)\n",
        "print('Viterbi Algorithm Accuracy: ',accuracy*100)"
      ],
      "metadata": {
        "id": "mT-5tEvSBWeo",
        "colab": {
          "base_uri": "https://localhost:8080/"
        },
        "outputId": "96517702-525f-48f4-e522-c88f705438ac"
      },
      "execution_count": null,
      "outputs": [
        {
          "output_type": "stream",
          "name": "stdout",
          "text": [
            "Time taken in seconds:  61.856483697891235\n",
            "196\n",
            "Viterbi Algorithm Accuracy:  93.77990430622009\n"
          ]
        }
      ]
    },
    {
      "cell_type": "code",
      "source": [
        "total_c_trb = []\n",
        "total_c_ts = []\n",
        "c_trb = 0 \n",
        "c_ts = 0 \n",
        "for tag in tags:\n",
        "  for i in range(len(test_run_base)):\n",
        "    if test_run_base[i][1] == tag:\n",
        "      c_trb+=1\n",
        "  total_c_trb.append(c_trb)\n",
        "  c_trb = 0\n",
        "\n",
        "  for i in range(len(tagged_seq)):\n",
        "    if test_run_base[i][1] == tag and test_run_base[i][1] == tagged_seq[i][1]:\n",
        "      c_ts+=1\n",
        "  total_c_ts.append(c_ts)\n",
        "  c_ts = 0"
      ],
      "metadata": {
        "id": "emfSy4pcPifP"
      },
      "execution_count": null,
      "outputs": []
    },
    {
      "cell_type": "code",
      "source": [
        "print(total_c_ts)"
      ],
      "metadata": {
        "id": "tbQ2FHvuPifQ",
        "colab": {
          "base_uri": "https://localhost:8080/"
        },
        "outputId": "34cfcb16-0f4c-46dc-e35d-044816b6e848"
      },
      "execution_count": null,
      "outputs": [
        {
          "output_type": "stream",
          "name": "stdout",
          "text": [
            "[29, 10, 55, 18, 7, 4, 14, 16, 2, 4, 32, 5]\n"
          ]
        }
      ]
    },
    {
      "cell_type": "code",
      "source": [
        "print(total_c_trb)"
      ],
      "metadata": {
        "id": "EehWS49MPifR",
        "colab": {
          "base_uri": "https://localhost:8080/"
        },
        "outputId": "fdd8a422-ec4c-40cc-ef77-e70377f63c93"
      },
      "execution_count": null,
      "outputs": [
        {
          "output_type": "stream",
          "name": "stdout",
          "text": [
            "[29, 11, 62, 18, 8, 4, 15, 16, 2, 4, 35, 5]\n"
          ]
        }
      ]
    },
    {
      "cell_type": "code",
      "source": [
        "accuracy = []"
      ],
      "metadata": {
        "id": "jisIRckZQcaj"
      },
      "execution_count": null,
      "outputs": []
    },
    {
      "cell_type": "code",
      "source": [
        "for i in range(len(tags)): \n",
        "  accuracy.append(total_c_ts[i]/total_c_trb[i])"
      ],
      "metadata": {
        "id": "v7-yFdzpPifS"
      },
      "execution_count": null,
      "outputs": []
    },
    {
      "cell_type": "code",
      "source": [
        "accuracy"
      ],
      "metadata": {
        "id": "gUq-R7SISWbe",
        "colab": {
          "base_uri": "https://localhost:8080/"
        },
        "outputId": "84dba045-e9d0-401e-b461-114f967df361"
      },
      "execution_count": null,
      "outputs": [
        {
          "output_type": "execute_result",
          "data": {
            "text/plain": [
              "[1.0,\n",
              " 0.9090909090909091,\n",
              " 0.8870967741935484,\n",
              " 1.0,\n",
              " 0.875,\n",
              " 1.0,\n",
              " 0.9333333333333333,\n",
              " 1.0,\n",
              " 1.0,\n",
              " 1.0,\n",
              " 0.9142857142857143,\n",
              " 1.0]"
            ]
          },
          "metadata": {},
          "execution_count": 19
        }
      ]
    },
    {
      "cell_type": "code",
      "source": [
        "tagged_seq_tag = []\n",
        "for word, tag in tagged_seq:\n",
        "  tagged_seq_tag.append(tag)\n",
        "\n",
        "test_run_base_tag = []\n",
        "for word, tag in test_run_base:\n",
        "  test_run_base_tag.append(tag)"
      ],
      "metadata": {
        "id": "kbH_zE-jidxs"
      },
      "execution_count": null,
      "outputs": []
    },
    {
      "cell_type": "code",
      "source": [
        "from sklearn.metrics import confusion_matrix\n",
        "\n",
        "\n",
        "cf_matrix = confusion_matrix(tagged_seq_tag, test_run_base_tag, labels=list(tags))\n",
        "categories  = list(tags)\n",
        "# group_names = ['True Neg','False Pos', 'False Neg','True Pos']\n",
        "group_percentages = [value for value in cf_matrix.flatten()]\n",
        "\n",
        "labels = [f'{v1}' for v1 in group_percentages]\n",
        "labels = np.asarray(labels).reshape(12,12)\n",
        "\n",
        "sns.heatmap(cf_matrix, annot = labels, cmap = 'Blues',fmt = '',\n",
        "                xticklabels = categories, yticklabels = categories)\n",
        "\n",
        "\n",
        "plt.xlabel(\"Actual values\", fontdict = {'size':14}, labelpad = 10)\n",
        "plt.ylabel(\"Predicted values\"   , fontdict = {'size':14}, labelpad = 10)\n",
        "plt.title (\"Confusion Matrix\", fontdict = {'size':18}, pad = 20)\n"
      ],
      "metadata": {
        "id": "ql2-2qOWidxt",
        "colab": {
          "base_uri": "https://localhost:8080/",
          "height": 361
        },
        "outputId": "103cbdc2-b7a4-4bf3-facc-2e23d0de22a2"
      },
      "execution_count": null,
      "outputs": [
        {
          "output_type": "execute_result",
          "data": {
            "text/plain": [
              "Text(0.5, 1.0, 'Confusion Matrix')"
            ]
          },
          "metadata": {},
          "execution_count": 21
        },
        {
          "output_type": "display_data",
          "data": {
            "text/plain": [
              "<Figure size 432x288 with 2 Axes>"
            ],
            "image/png": "[encoded data removed]"
          },
          "metadata": {
            "needs_background": "light"
          }
        }
      ]
    },
    {
      "cell_type": "code",
      "source": [
        "y = accuracy  # X-axis points\n",
        "x = list(tags)  # Y-axis points\n",
        "  \n",
        "plt.plot(x, y)  # Plot the chart\n",
        "plt.show()  # display"
      ],
      "metadata": {
        "id": "_oNJQsLoPifU",
        "colab": {
          "base_uri": "https://localhost:8080/",
          "height": 265
        },
        "outputId": "3c81e9b5-85ee-40cc-a670-a4aca240c5d6"
      },
      "execution_count": null,
      "outputs": [
        {
          "output_type": "display_data",
          "data": {
            "text/plain": [
              "<Figure size 432x288 with 1 Axes>"
            ],
            "image/png": "[encoded data removed]"
          },
          "metadata": {
            "needs_background": "light"
          }
        }
      ]
    },
    {
      "cell_type": "code",
      "source": [
        "# #Code to test all the test sentences\n",
        "# #(takes alot of time to run s0 we wont run it here)\n",
        "# # tagging the test sentences()\n",
        "# test_tagged_words = [tup for sent in test_set for tup in sent]\n",
        "# test_untagged_words = [tup[0] for sent in test_set for tup in sent]\n",
        "# test_untagged_words\n",
        " \n",
        "# start = time.time()\n",
        "# tagged_seq = Viterbi(test_untagged_words)\n",
        "# end = time.time()\n",
        "# difference = end-start\n",
        " \n",
        "# print(\"Time taken in seconds: \", difference)\n",
        " \n",
        "# # accuracy\n",
        "# check = [i for i, j in zip(test_tagged_words, test_untagged_words) if i == j] \n",
        " \n",
        "# accuracy = len(check)/len(tagged_seq)\n",
        "# print('Viterbi Algorithm Accuracy: ',accuracy*100)"
      ],
      "metadata": {
        "id": "BAzIMpKVBZ5i"
      },
      "execution_count": null,
      "outputs": []
    },
    {
      "cell_type": "code",
      "source": [
        "#To improve the performance,we specify a rule base tagger for unknown words \n",
        "# specify patterns for tagging\n",
        "patterns = [\n",
        "    (r'.*ing$', 'VERB'),              # gerund\n",
        "    (r'.*ed$', 'VERB'),               # past tense \n",
        "    (r'.*es$', 'VERB'),               # verb    \n",
        "    (r'.*\\'s$', 'NOUN'),              # possessive nouns\n",
        "    (r'.*s$', 'NOUN'),                # plural nouns\n",
        "    (r'\\*T?\\*?-[0-9]+$', 'X'),        # X\n",
        "    (r'^-?[0-9]+(.[0-9]+)?$', 'NUM'), # cardinal numbers\n",
        "    (r'.*', 'NOUN')                   # nouns\n",
        "]\n",
        " \n",
        "# rule based tagger\n",
        "rule_based_tagger = nltk.RegexpTagger(patterns)"
      ],
      "metadata": {
        "id": "yAVNrCaPBb6n"
      },
      "execution_count": null,
      "outputs": []
    },
    {
      "cell_type": "code",
      "source": [
        "#modified Viterbi to include rule based tagger in it\n",
        "def Viterbi_rule_based(words, train_bag = train_tagged_words):\n",
        "    state = []\n",
        "    T = list(set([pair[1] for pair in train_bag]))\n",
        "     \n",
        "    for key, word in enumerate(words):\n",
        "        #initialise list of probability column for a given observation\n",
        "        p = [] \n",
        "        for tag in T:\n",
        "            if key == 0:\n",
        "                transition_p = tags_df.loc['.', tag]\n",
        "            else:\n",
        "                transition_p = tags_df.loc[state[-1], tag]\n",
        "                 \n",
        "            # compute emission and state probabilities\n",
        "            emission_p = word_given_tag(words[key], tag)[0]/word_given_tag(words[key], tag)[1]\n",
        "            state_probability = emission_p * transition_p    \n",
        "            p.append(state_probability)\n",
        "             \n",
        "        pmax = max(p)\n",
        "        state_max = rule_based_tagger.tag([word])[0][1]       \n",
        "        \n",
        "         \n",
        "        if(pmax==0):\n",
        "            state_max = rule_based_tagger.tag([word])[0][1] # assign based on rule based tagger\n",
        "        else:\n",
        "            if state_max != 'X':\n",
        "                # getting state for which probability is maximum\n",
        "                state_max = T[p.index(pmax)]                \n",
        "             \n",
        "         \n",
        "        state.append(state_max)\n",
        "    return list(zip(words, state))"
      ],
      "metadata": {
        "id": "yO_qddlTBfhb"
      },
      "execution_count": null,
      "outputs": []
    },
    {
      "cell_type": "code",
      "source": [
        "#test accuracy on subset of test data \n",
        "start = time.time()\n",
        "tagged_seq = Viterbi_rule_based(test_tagged_words)\n",
        "end = time.time()\n",
        "difference = end-start\n",
        " \n",
        "print(\"Time taken in seconds: \", difference)\n",
        " \n",
        "# accuracy\n",
        "check = [i for i, j in zip(tagged_seq, test_run_base) if i == j] \n",
        " \n",
        "accuracy = len(check)/len(tagged_seq)\n",
        "print('Viterbi Algorithm with rule based tagger Accuracy: ',accuracy*100)"
      ],
      "metadata": {
        "id": "Ir245bwbBhdQ",
        "colab": {
          "base_uri": "https://localhost:8080/"
        },
        "outputId": "98400211-2dba-4735-b7ad-4618830903fc"
      },
      "execution_count": null,
      "outputs": [
        {
          "output_type": "stream",
          "name": "stdout",
          "text": [
            "Time taken in seconds:  51.64943075180054\n",
            "Viterbi Algorithm with rule based tagger Accuracy:  97.1291866028708\n"
          ]
        }
      ]
    },
    {
      "cell_type": "code",
      "source": [
        "total_c_trb = []\n",
        "total_c_ts = []\n",
        "c_trb = 0 \n",
        "c_ts = 0 \n",
        "for tag in tags:\n",
        "  for i in range(len(test_run_base)):\n",
        "    if test_run_base[i][1] == tag:\n",
        "      c_trb+=1\n",
        "  total_c_trb.append(c_trb)\n",
        "  c_trb = 0\n",
        "\n",
        "  for i in range(len(tagged_seq)):\n",
        "    if test_run_base[i][1] == tag and test_run_base[i][1] == tagged_seq[i][1]:\n",
        "      c_ts+=1\n",
        "  total_c_ts.append(c_ts)\n",
        "  c_ts = 0"
      ],
      "metadata": {
        "id": "NUR-O1YsHqHU"
      },
      "execution_count": null,
      "outputs": []
    },
    {
      "cell_type": "code",
      "source": [
        "print(total_c_ts)"
      ],
      "metadata": {
        "id": "8k11d6-JMkuj",
        "colab": {
          "base_uri": "https://localhost:8080/"
        },
        "outputId": "0a9c2bfa-290b-4f2a-9856-0e96acc89947"
      },
      "execution_count": null,
      "outputs": [
        {
          "output_type": "stream",
          "name": "stdout",
          "text": [
            "[29, 10, 59, 18, 7, 4, 15, 16, 2, 4, 34, 5]\n"
          ]
        }
      ]
    },
    {
      "cell_type": "code",
      "source": [
        "print(total_c_trb)"
      ],
      "metadata": {
        "id": "ThEp2MqHLWD6",
        "colab": {
          "base_uri": "https://localhost:8080/"
        },
        "outputId": "eb6751ad-c9b0-4f29-97ae-fe7fa59884ff"
      },
      "execution_count": null,
      "outputs": [
        {
          "output_type": "stream",
          "name": "stdout",
          "text": [
            "[29, 11, 62, 18, 8, 4, 15, 16, 2, 4, 35, 5]\n"
          ]
        }
      ]
    },
    {
      "cell_type": "code",
      "source": [
        "accuracy = []\n",
        "for i in range(len(tags)): \n",
        "  accuracy.append(total_c_ts[i]/total_c_trb[i])"
      ],
      "metadata": {
        "id": "aZMzeEUUNDOP"
      },
      "execution_count": null,
      "outputs": []
    },
    {
      "cell_type": "code",
      "source": [
        "accuracy"
      ],
      "metadata": {
        "id": "JvTUJraKShd8",
        "colab": {
          "base_uri": "https://localhost:8080/"
        },
        "outputId": "69fd6d76-9001-4b9a-8ffd-f93775627d1d"
      },
      "execution_count": null,
      "outputs": [
        {
          "output_type": "execute_result",
          "data": {
            "text/plain": [
              "[1.0,\n",
              " 0.9090909090909091,\n",
              " 0.9516129032258065,\n",
              " 1.0,\n",
              " 0.875,\n",
              " 1.0,\n",
              " 1.0,\n",
              " 1.0,\n",
              " 1.0,\n",
              " 1.0,\n",
              " 0.9714285714285714,\n",
              " 1.0]"
            ]
          },
          "metadata": {},
          "execution_count": 31
        }
      ]
    },
    {
      "cell_type": "code",
      "source": [
        "y = accuracy  # X-axis points\n",
        "x = list(tags)  # Y-axis points\n",
        "  \n",
        "plt.plot(x, y)  # Plot the chart\n",
        "plt.show()  # display"
      ],
      "metadata": {
        "id": "_E6iTiwTMzYD",
        "colab": {
          "base_uri": "https://localhost:8080/",
          "height": 265
        },
        "outputId": "12d1b548-2b98-49a0-9852-0ea22cbc3962"
      },
      "execution_count": null,
      "outputs": [
        {
          "output_type": "display_data",
          "data": {
            "text/plain": [
              "<Figure size 432x288 with 1 Axes>"
            ],
            "image/png": "[encoded data removed]"
          },
          "metadata": {
            "needs_background": "light"
          }
        }
      ]
    },
    {
      "cell_type": "code",
      "source": [
        "tagged_seq_tag = []\n",
        "for word, tag in tagged_seq:\n",
        "  tagged_seq_tag.append(tag)\n",
        "\n",
        "test_run_base_tag = []\n",
        "for word, tag in  test_run_base:\n",
        "  test_run_base_tag.append(tag)"
      ],
      "metadata": {
        "id": "F4VM6kjXghAK"
      },
      "execution_count": null,
      "outputs": []
    },
    {
      "cell_type": "code",
      "source": [
        "from sklearn.metrics import confusion_matrix\n",
        "confusion_matrix(tagged_seq_tag, test_run_base_tag, labels=list(tags))"
      ],
      "metadata": {
        "id": "TlXUiEXgfFiD",
        "colab": {
          "base_uri": "https://localhost:8080/"
        },
        "outputId": "1f7c356a-618f-43ee-c70d-2c8ca53c49c8"
      },
      "execution_count": null,
      "outputs": [
        {
          "output_type": "execute_result",
          "data": {
            "text/plain": [
              "array([[29,  0,  0,  0,  0,  0,  0,  0,  0,  0,  0,  0],\n",
              "       [ 0, 10,  0,  0,  1,  0,  0,  0,  0,  0,  0,  0],\n",
              "       [ 0,  1, 59,  0,  0,  0,  0,  0,  0,  0,  1,  0],\n",
              "       [ 0,  0,  0, 18,  0,  0,  0,  0,  0,  0,  0,  0],\n",
              "       [ 0,  0,  2,  0,  7,  0,  0,  0,  0,  0,  0,  0],\n",
              "       [ 0,  0,  0,  0,  0,  4,  0,  0,  0,  0,  0,  0],\n",
              "       [ 0,  0,  0,  0,  0,  0, 15,  0,  0,  0,  0,  0],\n",
              "       [ 0,  0,  0,  0,  0,  0,  0, 16,  0,  0,  0,  0],\n",
              "       [ 0,  0,  0,  0,  0,  0,  0,  0,  2,  0,  0,  0],\n",
              "       [ 0,  0,  0,  0,  0,  0,  0,  0,  0,  4,  0,  0],\n",
              "       [ 0,  0,  1,  0,  0,  0,  0,  0,  0,  0, 34,  0],\n",
              "       [ 0,  0,  0,  0,  0,  0,  0,  0,  0,  0,  0,  5]])"
            ]
          },
          "metadata": {},
          "execution_count": 34
        }
      ]
    },
    {
      "cell_type": "code",
      "source": [
        "from sklearn.metrics import confusion_matrix\n",
        "\n",
        "\n",
        "cf_matrix = confusion_matrix(tagged_seq_tag, test_run_base_tag, labels=list(tags))\n",
        "categories  = list(tags)\n",
        "# group_names = ['True Neg','False Pos', 'False Neg','True Pos']\n",
        "group_percentages = [value for value in cf_matrix.flatten()]\n",
        "\n",
        "labels = [f'{v1}' for v1 in group_percentages]\n",
        "labels = np.asarray(labels).reshape(12,12)\n",
        "\n",
        "sns.heatmap(cf_matrix, annot = labels, cmap = 'Blues',fmt = '',\n",
        "                xticklabels = categories, yticklabels = categories)\n",
        "\n",
        "plt.xlabel(\"Actual values\", fontdict = {'size':14}, labelpad = 10)\n",
        "plt.ylabel(\"Predicted values\"   , fontdict = {'size':14}, labelpad = 10)\n",
        "plt.title (\"Confusion Matrix\", fontdict = {'size':18}, pad = 20)\n"
      ],
      "metadata": {
        "id": "vy3ZplP8gMtt",
        "colab": {
          "base_uri": "https://localhost:8080/",
          "height": 361
        },
        "outputId": "29c3ecff-68a3-4aa7-bbf8-a4606c3efa26"
      },
      "execution_count": null,
      "outputs": [
        {
          "output_type": "execute_result",
          "data": {
            "text/plain": [
              "Text(0.5, 1.0, 'Confusion Matrix')"
            ]
          },
          "metadata": {},
          "execution_count": 35
        },
        {
          "output_type": "display_data",
          "data": {
            "text/plain": [
              "<Figure size 432x288 with 2 Axes>"
            ],
            "image/png": "[encoded data removed]"
          },
          "metadata": {
            "needs_background": "light"
          }
        }
      ]
    },
    {
      "cell_type": "code",
      "source": [
        "#Check how a sentence is tagged by the two POS taggers\n",
        "#and compare them\n",
        "test_sent=\"Will can see Marry\"\n",
        "pred_tags_rule=Viterbi_rule_based(test_sent.split())\n",
        "pred_tags_withoutRules= Viterbi(test_sent.split())\n",
        "print(pred_tags_rule)\n",
        "print(pred_tags_withoutRules)\n",
        "#Will and Marry are tagged as NUM as they are unknown words for Viterbi Algorithm "
      ],
      "metadata": {
        "id": "Rr0rqkjXBjmN",
        "colab": {
          "base_uri": "https://localhost:8080/"
        },
        "outputId": "5e90117e-f89b-4086-bd57-5a043a7d385a"
      },
      "execution_count": null,
      "outputs": [
        {
          "output_type": "stream",
          "name": "stdout",
          "text": [
            "[('Will', 'NOUN'), ('can', 'VERB'), ('see', 'VERB'), ('Marry', 'NOUN')]\n",
            "[('Will', '.'), ('can', 'VERB'), ('see', 'VERB'), ('Marry', '.')]\n"
          ]
        }
      ]
    }
  ]
}